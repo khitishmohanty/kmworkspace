{
 "cells": [
  {
   "cell_type": "code",
   "execution_count": 1,
   "metadata": {},
   "outputs": [],
   "source": [
    "import json\n",
    "import pandas as pd"
   ]
  },
  {
   "cell_type": "code",
   "execution_count": null,
   "metadata": {},
   "outputs": [],
   "source": [
    "json_content = open('C:\\\\Users\\\\khitish.mohanty\\\\OneDrive - Cube Content Governance Limited\\\\Documents\\\\CUBE Workspace\\\\KM\\\\ImageCompare\\\\data.json')\n",
    "json_content = json.load(json_content)"
   ]
  },
  {
   "cell_type": "code",
   "execution_count": null,
   "metadata": {},
   "outputs": [],
   "source": [
    "data = json_content[\"document_structure\"]\n",
    "data_rows = []\n",
    "for _pg_no, _content_json in data.items():\n",
    "    sorted_content_list = _content_json[\"sorted_struct_list\"]\n",
    "    for struct_json in sorted_content_list:\n",
    "        data_rows.append(struct_json)\n",
    "\n",
    "\n",
    "\n",
    "line_break_indexes = [y[0] for x in data_rows for y in x[\"all_breaks_info\"]]\n"
   ]
  },
  {
   "cell_type": "code",
   "execution_count": null,
   "metadata": {},
   "outputs": [],
   "source": [
    "dict = {'values': line_break_indexes}  \n",
    "df = pd.DataFrame(dict) \n",
    "df.to_csv('GFG.csv') "
   ]
  }
 ],
 "metadata": {
  "kernelspec": {
   "display_name": "Python 3.9.12 ('km-cv')",
   "language": "python",
   "name": "python3"
  },
  "language_info": {
   "codemirror_mode": {
    "name": "ipython",
    "version": 3
   },
   "file_extension": ".py",
   "mimetype": "text/x-python",
   "name": "python",
   "nbconvert_exporter": "python",
   "pygments_lexer": "ipython3",
   "version": "3.9.12"
  },
  "orig_nbformat": 4,
  "vscode": {
   "interpreter": {
    "hash": "2563e6a9bb34e6961a33dca03dc85a9f6b0d868832d02b77d941566179b2703f"
   }
  }
 },
 "nbformat": 4,
 "nbformat_minor": 2
}
