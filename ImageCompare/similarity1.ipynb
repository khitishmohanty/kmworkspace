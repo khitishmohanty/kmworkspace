{
 "cells": [
  {
   "cell_type": "code",
   "execution_count": null,
   "metadata": {},
   "outputs": [],
   "source": [
    "# import the necessary packages\n",
    "import numpy as np\n",
    "from skimage.metrics import structural_similarity as ssim\n",
    "import matplotlib.pyplot as plt\n",
    "import numpy as np\n",
    "import cv2"
   ]
  },
  {
   "cell_type": "markdown",
   "metadata": {},
   "source": [
    "## Method 1 - Mean Squared Error"
   ]
  },
  {
   "cell_type": "code",
   "execution_count": null,
   "metadata": {},
   "outputs": [],
   "source": [
    "def mse(imageA, imageB):\n",
    "    \t# the 'Mean Squared Error' between the two images is the\n",
    "\t# sum of the squared difference between the two images;\n",
    "\t# NOTE: the two images must have the same dimension\n",
    "\terr = np.sum((imageA.astype(\"float\") - imageB.astype(\"float\")) ** 2)\n",
    "\terr /= float(imageA.shape[0] * imageA.shape[1])\n",
    "\t\n",
    "\t# return the MSE, the lower the error, the more \"similar\"\n",
    "\t# the two images are\n",
    "\treturn err"
   ]
  },
  {
   "cell_type": "markdown",
   "metadata": {},
   "source": [
    "## Method 2 - Structural Similarity Measure"
   ]
  },
  {
   "cell_type": "code",
   "execution_count": null,
   "metadata": {},
   "outputs": [],
   "source": [
    "def compare_images(imageA, imageB, title):\n",
    "\t# compute the mean squared error and structural similarity\n",
    "\t# index for the images\n",
    "\tm = mse(imageA, imageB)\n",
    "\ts = ssim(imageA, imageB)\n",
    "\t# setup the figure\n",
    "\tfig = plt.figure(title)\n",
    "\tplt.suptitle(\"MSE: %.2f, SSIM: %.2f\" % (m, s))\n",
    "\t# show first image\n",
    "\tax = fig.add_subplot(1, 2, 1)\n",
    "\tplt.imshow(imageA, cmap = plt.cm.gray)\n",
    "\tplt.axis(\"off\")\n",
    "\t# show the second image\n",
    "\tax = fig.add_subplot(1, 2, 2)\n",
    "\tplt.imshow(imageB, cmap = plt.cm.gray)\n",
    "\tplt.axis(\"off\")\n",
    "\t# show the images\n",
    "\tplt.show()"
   ]
  },
  {
   "cell_type": "code",
   "execution_count": null,
   "metadata": {},
   "outputs": [],
   "source": [
    "# load the images -- the original, the original + contrast,\n",
    "# and the original + photoshop\n",
    "test1 = cv2.imread(\"images/0.png\")\n",
    "test2 = cv2.imread(\"images/0_0.png\")\n",
    "\n",
    "# convert the images to grayscale\n",
    "test1 = cv2.cvtColor(test1, cv2.COLOR_BGR2GRAY)\n",
    "test2 = cv2.cvtColor(test2, cv2.COLOR_BGR2GRAY)"
   ]
  },
  {
   "cell_type": "code",
   "execution_count": null,
   "metadata": {},
   "outputs": [],
   "source": [
    "dim = (300,50)\n",
    "test1 = cv2.resize(test1, dim, interpolation = cv2.INTER_AREA)\n",
    "test2 = cv2.resize(test2, dim, interpolation = cv2.INTER_AREA)"
   ]
  },
  {
   "cell_type": "code",
   "execution_count": null,
   "metadata": {},
   "outputs": [],
   "source": [
    "# initialize the figure\n",
    "fig = plt.figure(\"Images\")\n",
    "images = (\"Test1\", test1), (\"Test2\", test2)\n",
    "# loop over the images\n",
    "for (i, (name, image)) in enumerate(images):\n",
    "\t# show the image\n",
    "\tax = fig.add_subplot(1, 3, i + 1)\n",
    "\tax.set_title(name)\n",
    "\tplt.imshow(image, cmap = plt.cm.gray)\n",
    "\tplt.axis(\"off\")\n",
    "# show the figure\n",
    "plt.show()\n",
    "# compare the images\n",
    "compare_images(test1, test2, \"test1 vs. test2\")"
   ]
  },
  {
   "cell_type": "markdown",
   "metadata": {},
   "source": [
    "## Method 3 - Pillow"
   ]
  },
  {
   "cell_type": "code",
   "execution_count": 1,
   "metadata": {},
   "outputs": [],
   "source": [
    "from PIL import Image, ImageChops, ImageStat"
   ]
  },
  {
   "cell_type": "code",
   "execution_count": 22,
   "metadata": {},
   "outputs": [],
   "source": [
    "img1 = Image.open(\"images/4.png\").convert('L')\n",
    "img2 = Image.open(\"images/4_4.png\").convert('L')"
   ]
  },
  {
   "cell_type": "code",
   "execution_count": 23,
   "metadata": {},
   "outputs": [],
   "source": [
    "dim = (300,50)\n",
    "img1 = img1.resize(dim)\n",
    "img2 = img2.resize(dim)"
   ]
  },
  {
   "cell_type": "code",
   "execution_count": 26,
   "metadata": {},
   "outputs": [],
   "source": [
    "diff = ImageChops.difference(img1, img2)\n",
    "diff.show()"
   ]
  },
  {
   "cell_type": "code",
   "execution_count": 27,
   "metadata": {},
   "outputs": [
    {
     "data": {
      "text/plain": [
       "0.0"
      ]
     },
     "execution_count": 27,
     "metadata": {},
     "output_type": "execute_result"
    }
   ],
   "source": [
    "# Calculate difference as a ratio.\n",
    "stat = ImageStat.Stat(diff)\n",
    "diff_ratio = sum(stat.mean) / (len(stat.mean) * 255)\n",
    "\n",
    "diff_ratio * 100 "
   ]
  },
  {
   "cell_type": "markdown",
   "metadata": {},
   "source": [
    "## Method 4 - Image Hash"
   ]
  },
  {
   "cell_type": "markdown",
   "metadata": {},
   "source": [
    "### Cryptographic hash function"
   ]
  },
  {
   "cell_type": "code",
   "execution_count": 29,
   "metadata": {},
   "outputs": [],
   "source": [
    "import os\n",
    "from PIL import Image\n",
    "from PIL import ImageFile\n",
    "import imagehash"
   ]
  },
  {
   "cell_type": "code",
   "execution_count": 30,
   "metadata": {},
   "outputs": [],
   "source": [
    "#through picturu hash to compare\n",
    "def get_hash_dict(path):\n",
    "    hash_dict = {}\n",
    "    image_quantity = 0\n",
    "    with open(path, 'rb') as fp:\n",
    "        hash_dict[path] = imagehash.average_hash(Image.open(fp))\n",
    "        image_quantity += 1\n",
    "\n",
    "    return hash_dict, image_quantity"
   ]
  },
  {
   "cell_type": "code",
   "execution_count": 34,
   "metadata": {},
   "outputs": [],
   "source": [
    "def compare_image_with_hash(image_file_name_1, image_file_name_2, max_dif=0):\n",
    "    \"\"\"\n",
    "    max_dif: The maximum hash difference is allowed, the smaller and more accurate, the minimum is 0.\n",
    "    recommend to use\n",
    "    \"\"\"\n",
    "    ImageFile.LOAD_TRUNCATED_IMAGES = True\n",
    "    hash_1 = None\n",
    "    hash_2 = None\n",
    "    with open(image_file_name_1, 'rb') as fp:\n",
    "        hash_1 = imagehash.average_hash(Image.open(fp))\n",
    "    with open(image_file_name_2, 'rb') as fp:\n",
    "        hash_2 = imagehash.average_hash(Image.open(fp))\n",
    "    dif = hash_1 - hash_2\n",
    "    return dif\n"
   ]
  },
  {
   "cell_type": "code",
   "execution_count": 42,
   "metadata": {},
   "outputs": [
    {
     "data": {
      "text/plain": [
       "10"
      ]
     },
     "execution_count": 42,
     "metadata": {},
     "output_type": "execute_result"
    }
   ],
   "source": [
    "compare_image_with_hash('images/5.png', 'images/5_5.png', max_dif=0)"
   ]
  },
  {
   "cell_type": "markdown",
   "metadata": {},
   "source": [
    "## Method 5 - Image Histogram Analysis"
   ]
  },
  {
   "cell_type": "code",
   "execution_count": 49,
   "metadata": {},
   "outputs": [],
   "source": [
    "import cv2\n",
    "from matplotlib import pyplot as plt"
   ]
  },
  {
   "cell_type": "code",
   "execution_count": 46,
   "metadata": {},
   "outputs": [],
   "source": [
    "# load the images -- the original, the original + contrast,\n",
    "# and the original + photoshop\n",
    "test1 = cv2.imread(\"images/0.png\")\n",
    "test2 = cv2.imread(\"images/0_0.png\")\n",
    "\n",
    "# convert the images to grayscale\n",
    "test1 = cv2.cvtColor(test1, cv2.COLOR_BGR2GRAY)\n",
    "test2 = cv2.cvtColor(test2, cv2.COLOR_BGR2GRAY)\n",
    "\n",
    "dim = (300,50)\n",
    "test1 = cv2.resize(test1, dim, interpolation = cv2.INTER_AREA)\n",
    "test2 = cv2.resize(test2, dim, interpolation = cv2.INTER_AREA)"
   ]
  },
  {
   "cell_type": "code",
   "execution_count": 51,
   "metadata": {},
   "outputs": [],
   "source": [
    "histr = cv2.calcHist([test2],[0],None,[256],[0,256])"
   ]
  },
  {
   "cell_type": "code",
   "execution_count": 52,
   "metadata": {},
   "outputs": [
    {
     "data": {
      "image/png": "[encoded data removed]",
      "text/plain": [
       "<Figure size 432x288 with 1 Axes>"
      ]
     },
     "metadata": {
      "needs_background": "light"
     },
     "output_type": "display_data"
    }
   ],
   "source": [
    "plt.plot(histr)\n",
    "plt.show()"
   ]
  }
 ],
 "metadata": {
  "kernelspec": {
   "display_name": "Python 3.9.12 ('km-cv')",
   "language": "python",
   "name": "python3"
  },
  "language_info": {
   "codemirror_mode": {
    "name": "ipython",
    "version": 3
   },
   "file_extension": ".py",
   "mimetype": "text/x-python",
   "name": "python",
   "nbconvert_exporter": "python",
   "pygments_lexer": "ipython3",
   "version": "3.9.12"
  },
  "orig_nbformat": 4,
  "vscode": {
   "interpreter": {
    "hash": "2563e6a9bb34e6961a33dca03dc85a9f6b0d868832d02b77d941566179b2703f"
   }
  }
 },
 "nbformat": 4,
 "nbformat_minor": 2
}
