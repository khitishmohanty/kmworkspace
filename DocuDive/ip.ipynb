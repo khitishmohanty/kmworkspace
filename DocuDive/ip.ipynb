{
 "cells": [
  {
   "cell_type": "code",
   "execution_count": 1,
   "metadata": {},
   "outputs": [],
   "source": [
    "import json"
   ]
  },
  {
   "cell_type": "code",
   "execution_count": 21,
   "metadata": {},
   "outputs": [],
   "source": [
    "text = \"\"\"\n",
    "**Late 2006 - Early 2008:** Linear Air expects to start flying customers in the Eclipse by early 2008.\n",
    "\n",
    "**1995-2007:** The number of private jets sold had gone from 311 in 1995 to a projected 1000 in 2007, with analysts forecasting 8%–10% annual growth through 2010.\n",
    "\n",
    "**January 2000:** DayJet was established by Ed Iacobucci.\n",
    "\n",
    "**2004:** Linear Air obtained Part 135 certification to operate commercially and launched with a fleet of Cessna 208 Caravan turboprop aircraft.\n",
    "\n",
    "**2007:** Linear Air was operating six Caravan aircraft and had secured 1,200 customers, with another 10,000 prospective customers captured in a database.\n",
    "\n",
    "**August 2007:** Linear Air took delivery of its first Eclipse 500 jet\n",
    "\n",
    "**ongoing:** Training of maintenance crews\n",
    "\n",
    "**current:** Linear Air has more than 20 full-time pilots\n",
    "\n",
    "**2001–2007:** Exhibit 9 shows operating margins\n",
    "\n",
    "**five years:** Herp's growth plans include reaching 230 aircraft and almost $400 million in revenues\n",
    "\n",
    "**1998:** Eclipse Aviation founded by Vern Raburn\n",
    "\n",
    "**2000:** Preliminary design for Eclipse 500 VLJ completed\n",
    "\n",
    "**2002:** First prototype of Eclipse 500 VLJ\n",
    "\n",
    "**2006:** FAA awarded full certification to Eclipse 500\n",
    "\n",
    "**December 31, 2006:** First production Eclipse 500 delivered to a customer\n",
    "\n",
    "**1998:** Adam Aircraft founded by Rick Adam\n",
    "\n",
    "**March 2000:** M-309 prototype made maiden flight\n",
    "\n",
    "**2005:** FAA certification received for Adam A500\n",
    "\n",
    "**October 2002:** Announcement of Adam A700 VLJ\n",
    "\n",
    "**2006:** Adam Aircraft raised $93 million in financing\n",
    "\n",
    "**2007:** Adam Aircraft raised $105 million in financing\n",
    "\n",
    "**2002:** Cessna announced the Citation Mustang VLJ\n",
    "\n",
    "**early September 2006:** Citation Mustang achieved FAA certification\n",
    "\n",
    "**May 2007:** Citation Mustang certified by the European Aviation Safety Agency\n",
    "\n",
    "**late-1980s:** Honda began aircraft development\n",
    "\n",
    "**December 2003:** First flight of HondaJet VLJ\n",
    "\n",
    "**October 2006:** Commercial launch of HondaJet\n",
    "\n",
    "**2006:** Embraer unveiled the Phenom 100 VLJ\n",
    "\n",
    "**July 2007:** Phenom 100 made its first flight\n",
    "\n",
    "**mid-2008:** Expected first deliveries of Phenom 100\n",
    "\n",
    "**808-107:** Linear Air: Creating the Air Taxi Industry\n",
    "\n",
    "**18:** Exhibit 5 Comparison of a Round Trip from Boston, MA to Grand Rapids, MI (distance of 628 nautical miles)\n",
    "\n",
    "**2004:** Linear Air started its operations.\n",
    "\n",
    "**2004:** SATSair started its operations.\n",
    "\n",
    "**2005:** Open Air started its operations.\n",
    "\n",
    "**2007:** ImagineAir started its operations.\n",
    "\n",
    "**2007:** Skyline Flights started its operations.\n",
    "\n",
    "**2007:** DayJet started its operations.\n",
    "\n",
    "**2009:** Pogo expected to start its operations.\n",
    "\n",
    "**2008:** Hopscotch Air estimated to start its operations.\n",
    "\n",
    "**2008:** Blue Sky Taxi estimated to start its operations.\n",
    "\n",
    "**2004:** Linear Air had 30 Eclipse 500 aircraft on order for future delivery.\n",
    "\n",
    "**2008:** DayJet planned to add an Eclipse 500 VLJ.\n",
    "\n",
    "**2001-2007:** Exhibit 9 provides the operating margins of major passenger carriers during this period.\n",
    "\n",
    "**2004-2006:** Linear Air's financial performance during this period is shown in Exhibit 7\n",
    "\n",
    "**2008-2012:** Projections of Linear Air's financials for this period are presented in Exhibit 10.\n",
    "\n",
    "**2006 estimates:** Exhibit 11 shows the top metropolitan statistical areas by population in 2006.\n",
    "\n",
    "**12 months to June 30, 2007:** Exhibit 12 lists the top high-yield passenger originating cities for trips less than 1,500 miles during this time period.\n",
    "\n",
    "**12 months to June 30, 2007:** Exhibit 13 provides information on the top high-yield passenger city pairs for trips less than 1,500 miles during this time period.\n",
    "\"\"\""
   ]
  },
  {
   "cell_type": "code",
   "execution_count": 22,
   "metadata": {},
   "outputs": [
    {
     "data": {
      "text/plain": [
       "\"\\n**Late 2006 - Early 2008:** Linear Air expects to start flying customers in the Eclipse by early 2008.\\n\\n**1995-2007:** The number of private jets sold had gone from 311 in 1995 to a projected 1000 in 2007, with analysts forecasting 8%–10% annual growth through 2010.\\n\\n**January 2000:** DayJet was established by Ed Iacobucci.\\n\\n**2004:** Linear Air obtained Part 135 certification to operate commercially and launched with a fleet of Cessna 208 Caravan turboprop aircraft.\\n\\n**2007:** Linear Air was operating six Caravan aircraft and had secured 1,200 customers, with another 10,000 prospective customers captured in a database.\\n\\n**August 2007:** Linear Air took delivery of its first Eclipse 500 jet\\n\\n**ongoing:** Training of maintenance crews\\n\\n**current:** Linear Air has more than 20 full-time pilots\\n\\n**2001–2007:** Exhibit 9 shows operating margins\\n\\n**five years:** Herp's growth plans include reaching 230 aircraft and almost $400 million in revenues\\n\\n**1998:** Eclipse Aviation founded by Vern Raburn\\n\\n**2000:** Preliminary design for Eclipse 500 VLJ completed\\n\\n**2002:** First prototype of Eclipse 500 VLJ\\n\\n**2006:** FAA awarded full certification to Eclipse 500\\n\\n**December 31, 2006:** First production Eclipse 500 delivered to a customer\\n\\n**1998:** Adam Aircraft founded by Rick Adam\\n\\n**March 2000:** M-309 prototype made maiden flight\\n\\n**2005:** FAA certification received for Adam A500\\n\\n**October 2002:** Announcement of Adam A700 VLJ\\n\\n**2006:** Adam Aircraft raised $93 million in financing\\n\\n**2007:** Adam Aircraft raised $105 million in financing\\n\\n**2002:** Cessna announced the Citation Mustang VLJ\\n\\n**early September 2006:** Citation Mustang achieved FAA certification\\n\\n**May 2007:** Citation Mustang certified by the European Aviation Safety Agency\\n\\n**late-1980s:** Honda began aircraft development\\n\\n**December 2003:** First flight of HondaJet VLJ\\n\\n**October 2006:** Commercial launch of HondaJet\\n\\n**2006:** Embraer unveiled the Phenom 100 VLJ\\n\\n**July 2007:** Phenom 100 made its first flight\\n\\n**mid-2008:** Expected first deliveries of Phenom 100\\n\\n**808-107:** Linear Air: Creating the Air Taxi Industry\\n\\n**18:** Exhibit 5 Comparison of a Round Trip from Boston, MA to Grand Rapids, MI (distance of 628 nautical miles)\\n\\n**2004:** Linear Air started its operations.\\n\\n**2004:** SATSair started its operations.\\n\\n**2005:** Open Air started its operations.\\n\\n**2007:** ImagineAir started its operations.\\n\\n**2007:** Skyline Flights started its operations.\\n\\n**2007:** DayJet started its operations.\\n\\n**2009:** Pogo expected to start its operations.\\n\\n**2008:** Hopscotch Air estimated to start its operations.\\n\\n**2008:** Blue Sky Taxi estimated to start its operations.\\n\\n**2004:** Linear Air had 30 Eclipse 500 aircraft on order for future delivery.\\n\\n**2008:** DayJet planned to add an Eclipse 500 VLJ.\\n\\n**2001-2007:** Exhibit 9 provides the operating margins of major passenger carriers during this period.\\n\\n**2004-2006:** Linear Air's financial performance during this period is shown in Exhibit 7\\n\\n**2008-2012:** Projections of Linear Air's financials for this period are presented in Exhibit 10.\\n\\n**2006 estimates:** Exhibit 11 shows the top metropolitan statistical areas by population in 2006.\\n\\n**12 months to June 30, 2007:** Exhibit 12 lists the top high-yield passenger originating cities for trips less than 1,500 miles during this time period.\\n\\n**12 months to June 30, 2007:** Exhibit 13 provides information on the top high-yield passenger city pairs for trips less than 1,500 miles during this time period.\\n\""
      ]
     },
     "execution_count": 22,
     "metadata": {},
     "output_type": "execute_result"
    }
   ],
   "source": [
    "text"
   ]
  },
  {
   "cell_type": "code",
   "execution_count": 34,
   "metadata": {},
   "outputs": [],
   "source": [
    "import math"
   ]
  },
  {
   "cell_type": "code",
   "execution_count": 112,
   "metadata": {},
   "outputs": [
    {
     "data": {
      "text/plain": [
       "(3, 11)"
      ]
     },
     "execution_count": 112,
     "metadata": {},
     "output_type": "execute_result"
    }
   ],
   "source": [
    "number_of_pages = 31\n",
    "\n",
    "def predict_no_of_headings(number_of_blocks):\n",
    "    if(number_of_blocks<5):\n",
    "        pages_per_iterations = 1\n",
    "        num_of_headings = math.ceil(number_of_blocks/pages_per_iterations)\n",
    "    if(number_of_blocks>4 and number_of_blocks<21):\n",
    "        pages_per_iterations = 2\n",
    "        num_of_headings = math.ceil(number_of_pages/pages_per_iterations)\n",
    "    if(number_of_blocks>20):\n",
    "        pages_per_iterations = 3\n",
    "        num_of_headings = math.ceil(number_of_blocks/pages_per_iterations)\n",
    "    return pages_per_iterations, num_of_headings\n",
    "\n",
    "\n",
    "\n",
    "predict_no_of_headings(number_of_pages)"
   ]
  },
  {
   "cell_type": "code",
   "execution_count": 65,
   "metadata": {},
   "outputs": [
    {
     "data": {
      "text/plain": [
       "1"
      ]
     },
     "execution_count": 65,
     "metadata": {},
     "output_type": "execute_result"
    }
   ],
   "source": [
    "num_of_headings"
   ]
  }
 ],
 "metadata": {
  "kernelspec": {
   "display_name": "km-cv",
   "language": "python",
   "name": "python3"
  },
  "language_info": {
   "codemirror_mode": {
    "name": "ipython",
    "version": 3
   },
   "file_extension": ".py",
   "mimetype": "text/x-python",
   "name": "python",
   "nbconvert_exporter": "python",
   "pygments_lexer": "ipython3",
   "version": "3.9.12"
  },
  "orig_nbformat": 4
 },
 "nbformat": 4,
 "nbformat_minor": 2
}
