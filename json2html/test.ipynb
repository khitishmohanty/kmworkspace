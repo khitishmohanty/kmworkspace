{
 "cells": [
  {
   "cell_type": "code",
   "execution_count": 1,
   "metadata": {},
   "outputs": [],
   "source": [
    "import json\n",
    "from json2html import *"
   ]
  },
  {
   "cell_type": "code",
   "execution_count": 2,
   "metadata": {},
   "outputs": [],
   "source": [
    "filename=\"874BankingCodeupdated2016-KH.json\"\n",
    "f = open(\"C:\\\\Users\\\\khitish.mohanty\\\\OneDrive - Cube Content Governance Limited\\\\Documents\\\\CUBE Workspace\\\\KM\\\\json2html\\\\\"+filename)\n",
    "infoFromJson = json.load(f)"
   ]
  },
  {
   "cell_type": "code",
   "execution_count": 3,
   "metadata": {},
   "outputs": [],
   "source": [
    "op=''\n",
    "for i in range(len(infoFromJson)-1):\n",
    "#for i in range(17,19):\n",
    "    op=op+'<h1>'+'Page: '+str(i+1)+'</h1>'\n",
    "    pageno='page_'+str(i+1).zfill(4)\n",
    "    for j in range(len(infoFromJson[pageno])):\n",
    "        km = '<td><FONT COLOR=\"#6E8290\">'+infoFromJson[pageno][j]['text']+'</FONT></td><br></br>'\n",
    "        op = op+km"
   ]
  },
  {
   "cell_type": "code",
   "execution_count": 4,
   "metadata": {},
   "outputs": [],
   "source": [
    "def write_html(file, data):\n",
    "    \"\"\" dumping converted table HTML into the file \"\"\"\n",
    "    with open(file, 'w') as f:\n",
    "        f.write(data)\n",
    "write_html('results.html', op)"
   ]
  },
  {
   "cell_type": "code",
   "execution_count": null,
   "metadata": {},
   "outputs": [],
   "source": [
    "len(infoFromJson['page_0001'])"
   ]
  },
  {
   "cell_type": "code",
   "execution_count": null,
   "metadata": {},
   "outputs": [],
   "source": [
    "data = json2html.convert(json = infoFromJson)"
   ]
  },
  {
   "cell_type": "code",
   "execution_count": null,
   "metadata": {},
   "outputs": [],
   "source": [
    "write_html('results.html', data)"
   ]
  }
 ],
 "metadata": {
  "kernelspec": {
   "display_name": "km-cv",
   "language": "python",
   "name": "python3"
  },
  "language_info": {
   "codemirror_mode": {
    "name": "ipython",
    "version": 3
   },
   "file_extension": ".py",
   "mimetype": "text/x-python",
   "name": "python",
   "nbconvert_exporter": "python",
   "pygments_lexer": "ipython3",
   "version": "3.9.12"
  },
  "orig_nbformat": 4
 },
 "nbformat": 4,
 "nbformat_minor": 2
}
