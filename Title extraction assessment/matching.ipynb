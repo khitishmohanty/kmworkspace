{
 "cells": [
  {
   "cell_type": "code",
   "execution_count": 2,
   "metadata": {},
   "outputs": [
    {
     "name": "stderr",
     "output_type": "stream",
     "text": [
      "c:\\Users\\Khitish.Mohanty.THECONTENTGROUP\\.conda\\envs\\llm\\lib\\site-packages\\fuzzywuzzy\\fuzz.py:11: UserWarning: Using slow pure-python SequenceMatcher. Install python-Levenshtein to remove this warning\n",
      "  warnings.warn('Using slow pure-python SequenceMatcher. Install python-Levenshtein to remove this warning')\n"
     ]
    }
   ],
   "source": [
    "import pandas as pd\n",
    "from fuzzywuzzy import fuzz"
   ]
  },
  {
   "cell_type": "code",
   "execution_count": 6,
   "metadata": {},
   "outputs": [],
   "source": [
    "# Load the Excel file\n",
    "df = pd.read_excel(\".\\Input\\Title extraction assessment.xlsx\")  # Update the path to your Excel file"
   ]
  },
  {
   "cell_type": "code",
   "execution_count": 7,
   "metadata": {},
   "outputs": [
    {
     "data": {
      "text/plain": [
       "Index(['JurisdictionName', 'JurisdictionID', 'IssuingbodyName',\n",
       "       'IssuingbodyID', 'InsightSourceID', 'PublishedDate', 'IssuanceType',\n",
       "       'SourceURL', 'CubeURL', 'InsightTitle(Original)',\n",
       "       'InsightTitle(RCNN Model)', 'RCNN ProcessingTime(sec)',\n",
       "       'InsightTitle (MMM V 2 2)', 'ProcessingTime (MMM V 2 2)',\n",
       "       'InsightTitle (MMM V 2 3)', 'ProcessingTime (MMM V 2 3)',\n",
       "       'Matching V 2 2 with V 2 3', 'InsightTitle (MMM V 2 4)',\n",
       "       'ProcessingTime (MMM V 2 4)', 'Matching V 2 2 with V 2 4',\n",
       "       'InsightTitle (Gemini)', 'ProcessingTime (Gemini)',\n",
       "       'Insight title Score', 'RCNN model Score', 'MM model Score V 2 2',\n",
       "       'Comments', 'Verified'],\n",
       "      dtype='object')"
      ]
     },
     "execution_count": 7,
     "metadata": {},
     "output_type": "execute_result"
    }
   ],
   "source": [
    "df.columns"
   ]
  },
  {
   "cell_type": "code",
   "execution_count": 11,
   "metadata": {},
   "outputs": [],
   "source": [
    "# Define a function to calculate the fuzzy matching score\n",
    "def get_fuzzy_score_v22_v23(row):\n",
    "    title1 = row['InsightTitle (MMM V 2 2)']\n",
    "    title2 = row['InsightTitle (MMM V 2 3)']\n",
    "    # Check for NaN or None and treat them as empty strings\n",
    "    title1 = '' if pd.isna(title1) else title1\n",
    "    title2 = '' if pd.isna(title2) else title2\n",
    "    return fuzz.ratio(title1, title2)\n",
    "\n",
    "def get_fuzzy_score_v22_v24(row):\n",
    "    title1 = row['InsightTitle (MMM V 2 2)']\n",
    "    title2 = row['InsightTitle (MMM V 2 4)']\n",
    "    # Check for NaN or None and treat them as empty strings\n",
    "    title1 = '' if pd.isna(title1) else title1\n",
    "    title2 = '' if pd.isna(title2) else title2\n",
    "    return fuzz.ratio(title1, title2)\n",
    "\n",
    "def get_fuzzy_score_v22_Gemini(row):\n",
    "    title1 = row['InsightTitle (MMM V 2 2)']\n",
    "    title2 = row['InsightTitle (Gemini)']\n",
    "    # Check for NaN or None and treat them as empty strings\n",
    "    title1 = '' if pd.isna(title1) else title1\n",
    "    title2 = '' if pd.isna(title2) else title2\n",
    "    return fuzz.ratio(title1, title2)\n",
    "\n",
    "def get_fuzzy_score_v24_Gemini(row):\n",
    "    title1 = row['InsightTitle (MMM V 2 4)']\n",
    "    title2 = row['InsightTitle (Gemini)']\n",
    "    # Check for NaN or None and treat them as empty strings\n",
    "    title1 = '' if pd.isna(title1) else title1\n",
    "    title2 = '' if pd.isna(title2) else title2\n",
    "    return fuzz.ratio(title1, title2)"
   ]
  },
  {
   "cell_type": "code",
   "execution_count": 12,
   "metadata": {},
   "outputs": [],
   "source": [
    "# Apply the function to each row in the DataFrame and create a new column with the scores\n",
    "df['Matching 22 23'] = df.apply(get_fuzzy_score_v22_v23, axis=1)\n",
    "df['Matching 22 24'] = df.apply(get_fuzzy_score_v22_v24, axis=1)\n",
    "df['Matching 22 Gemini'] = df.apply(get_fuzzy_score_v22_Gemini, axis=1)\n",
    "df['Matching 24 Gemini'] = df.apply(get_fuzzy_score_v24_Gemini, axis=1)"
   ]
  },
  {
   "cell_type": "code",
   "execution_count": 13,
   "metadata": {},
   "outputs": [],
   "source": [
    "output_filename = \".\\Output\\output_with_matching_scores.xlsx\"\n",
    "df.to_excel(output_filename, index=False)"
   ]
  }
 ],
 "metadata": {
  "kernelspec": {
   "display_name": "llm",
   "language": "python",
   "name": "python3"
  },
  "language_info": {
   "codemirror_mode": {
    "name": "ipython",
    "version": 3
   },
   "file_extension": ".py",
   "mimetype": "text/x-python",
   "name": "python",
   "nbconvert_exporter": "python",
   "pygments_lexer": "ipython3",
   "version": "3.9.19"
  }
 },
 "nbformat": 4,
 "nbformat_minor": 2
}
